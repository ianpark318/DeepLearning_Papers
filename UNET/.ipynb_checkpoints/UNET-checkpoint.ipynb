{
 "cells": [
  {
   "cell_type": "markdown",
   "id": "22f736d2",
   "metadata": {},
   "source": [
    "# U-Net : Convolutional Networks for Biomedical Image Segmentation\n",
    "### _Olaf Ronneberger, Philipp Fischer, and Thomas Brox_\n",
    "Conference on CVPR 2015\n",
    "***\n",
    "## Purpose\n",
    "The strategy in [Ciresan et al.](https://proceedings.neurips.cc/paper/2012/file/459a4ddcb586f24efd9395aa7662bc7c-Paper.pdf) has two drawbacks\n",
    "* Quite slow\n",
    "* Trade-off between localization accuracy and the use of context  \n",
    "  \n",
    "Thus,\n",
    "1. To resolve above drawbacks\n",
    "2. To improve segmentation quality of ISBI cell tracking challenge's image  \n",
    "\n",
    "## Contribution\n",
    "1. Advance from Fully Convolutional Networks (FCN)\n",
    "2. Large Image (High resolution) $\\to$ Overlap-Tite Input\n",
    "3. Little training Data $\\to$ Data Augmentation\n",
    "&nbsp; \n",
    "\n",
    "\n",
    "\n",
    "\n",
    "\n",
    "\n",
    "\n",
    "\n",
    "\n"
   ]
  },
  {
   "cell_type": "markdown",
   "id": "4433e7c7",
   "metadata": {},
   "source": [
    "## Methodology  \n",
    "![image](../img/UNET/structure.png)"
   ]
  },
  {
   "cell_type": "markdown",
   "id": "529002a9",
   "metadata": {},
   "source": [
    "***\n",
    "![image](../img/UNET/contractingpath.png)"
   ]
  },
  {
   "cell_type": "markdown",
   "id": "d1ad58ac",
   "metadata": {},
   "source": [
    "***\n",
    "![image](../img/UNET/expansivepath.png)"
   ]
  },
  {
   "cell_type": "markdown",
   "id": "386a8178",
   "metadata": {},
   "source": [
    "***\n",
    "![image](../img/UNET/tradeoff.png)"
   ]
  },
  {
   "cell_type": "markdown",
   "id": "c6956efc",
   "metadata": {},
   "source": [
    "***\n",
    "![image](../img/UNET/overlaptile.png)"
   ]
  },
  {
   "cell_type": "markdown",
   "id": "8be57477",
   "metadata": {},
   "source": [
    "***\n",
    "![image](../img/UNET/dataaug.png)"
   ]
  },
  {
   "cell_type": "markdown",
   "id": "54e19f1e",
   "metadata": {},
   "source": [
    "***\n",
    "![image info](../img/UNET/touchingcells.png)"
   ]
  },
  {
   "cell_type": "markdown",
   "id": "813f14ff",
   "metadata": {},
   "source": [
    "## Experiments  \n",
    "&nbsp;\n",
    "![image info](../img/UNET/experiments1.png)"
   ]
  },
  {
   "cell_type": "markdown",
   "id": "91dfd156",
   "metadata": {},
   "source": [
    "***\n",
    "![image info](../img/UNET/experiments2.png)  "
   ]
  },
  {
   "cell_type": "markdown",
   "id": "0b23c4db",
   "metadata": {},
   "source": [
    "## Summary  \n",
    "&nbsp;\n",
    "![image info](../img/UNET/summary.png)  "
   ]
  },
  {
   "cell_type": "markdown",
   "id": "2d3da28f",
   "metadata": {},
   "source": [
    "## References  \n",
    "* [tistory blog from @msmapark2](https://medium.com/@msmapark2/u-net-%EB%85%BC%EB%AC%B8-%EB%A6%AC%EB%B7%B0-u-net-convolutional-networks-for-biomedical-image-segmentation-456d6901b28a)  \n",
    "* [U-Net : Convolutional Networks for Biomedical Image Segmentation](https://arxiv.org/abs/1505.04597)"
   ]
  }
 ],
 "metadata": {
  "kernelspec": {
   "display_name": "Python 3 (ipykernel)",
   "language": "python",
   "name": "python3"
  },
  "language_info": {
   "codemirror_mode": {
    "name": "ipython",
    "version": 3
   },
   "file_extension": ".py",
   "mimetype": "text/x-python",
   "name": "python",
   "nbconvert_exporter": "python",
   "pygments_lexer": "ipython3",
   "version": "3.9.12"
  }
 },
 "nbformat": 4,
 "nbformat_minor": 5
}
