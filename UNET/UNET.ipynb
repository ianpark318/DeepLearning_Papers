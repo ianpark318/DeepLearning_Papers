{
 "cells": [
  {
   "cell_type": "markdown",
   "id": "22f736d2",
   "metadata": {},
   "source": [
    "# U-Net : Convolutional Networks for Biomedical Image Segmentation\n",
    "### _Olaf Ronneberger, Philipp Fischer, and Thomas Brox_\n",
    "Conference on CVPR 2015\n",
    "***\n",
    "## Purpose\n",
    "The strategy in [Ciresan et al.](https://proceedings.neurips.cc/paper/2012/file/459a4ddcb586f24efd9395aa7662bc7c-Paper.pdf) has two drawbacks\n",
    "* Quite slow\n",
    "* Trade-off between localization accuracy and the use of context  \n",
    "  \n",
    "Thus,\n",
    "1. To resolve above drawbacks\n",
    "2. To improve segmentation quality of ISBI cell tracking challenge's image  \n",
    "\n",
    "## Contribution\n",
    "1. Advance from Fully Convolutional Networks (FCN)\n",
    "2. Large Image (High resolution) $\\to$ Overlap-Tite Input\n",
    "3. Little training Data $\\to$ Data Augmentation\n",
    "&nbsp; \n",
    "\n",
    "## Methodology  \n",
    "![image info](../../img/UNET/structure.jpg)\n",
    "***\n",
    "![image info](../../img/UNET/contractingpath.jpg)\n",
    "***\n",
    "![image info](../../img/UNET/expansivepath.jpg)\n",
    "***\n",
    "![image info](../../img/UNET/tradeoff.jpg)\n",
    "***\n",
    "![image info](../../img/UNET/overlaptile.jpg)\n",
    "***\n",
    "![image info](../../img/UNET/dataaug.jpg)\n",
    "***\n",
    "![image info](../../img/UNET/touchingcells.jpg)\n",
    "***\n",
    "&nbsp;&nbsp;\n",
    "## Experiments  \n",
    "&nbsp;\n",
    "![image info](../../img/UNET/experiments1.jpg)\n",
    "***\n",
    "![image info](../../img/UNET/experiments2.jpg)  \n",
    "&nbsp;&nbsp;\n",
    "## Summary  \n",
    "&nbsp;\n",
    "![image info](../../img/UNET/summary.jpg)  \n",
    "&nbsp;  \n",
    "## References  \n",
    "* [tistory blog from @msmapark2](https://medium.com/@msmapark2/u-net-%EB%85%BC%EB%AC%B8-%EB%A6%AC%EB%B7%B0-u-net-convolutional-networks-for-biomedical-image-segmentation-456d6901b28a)  \n",
    "* [U-Net : Convolutional Networks for Biomedical Image Segmentation](https://arxiv.org/abs/1505.04597)"
   ]
  },
  {
   "cell_type": "code",
   "execution_count": null,
   "id": "1f8c47fa",
   "metadata": {},
   "outputs": [],
   "source": []
  }
 ],
 "metadata": {
  "kernelspec": {
   "display_name": "Python 3 (ipykernel)",
   "language": "python",
   "name": "python3"
  },
  "language_info": {
   "codemirror_mode": {
    "name": "ipython",
    "version": 3
   },
   "file_extension": ".py",
   "mimetype": "text/x-python",
   "name": "python",
   "nbconvert_exporter": "python",
   "pygments_lexer": "ipython3",
   "version": "3.9.12"
  }
 },
 "nbformat": 4,
 "nbformat_minor": 5
}
